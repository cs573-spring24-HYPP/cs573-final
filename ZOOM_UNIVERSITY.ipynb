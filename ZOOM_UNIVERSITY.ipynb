{
 "cells": [
  {
   "cell_type": "code",
   "id": "initial_id",
   "metadata": {
    "collapsed": true,
    "ExecuteTime": {
     "end_time": "2024-04-26T08:03:31.067935Z",
     "start_time": "2024-04-26T08:03:31.065051Z"
    }
   },
   "source": [
    "TRAIN_DATA_FILE = \"UNSW_NB15_training-set.csv\"\n",
    "TEST_DATA_FILE = \"UNSW_NB15_testing-set.csv\""
   ],
   "outputs": [],
   "execution_count": 4
  },
  {
   "metadata": {
    "ExecuteTime": {
     "end_time": "2024-04-26T08:16:09.721805Z",
     "start_time": "2024-04-26T08:16:09.715829Z"
    }
   },
   "cell_type": "code",
   "source": [
    "import CS537_Project_Helper as helper\n",
    "\n",
    "import math\n",
    "import pandas as pd\n",
    "import numpy as np\n",
    "from matplotlib import pyplot as plt\n",
    "\n",
    "from category_encoders import BinaryEncoder\n",
    "from sklearn.preprocessing import StandardScaler, LabelEncoder\n",
    "from sklearn.compose import ColumnTransformer\n",
    "\n",
    "from river import stream, compose, linear_model, metrics, preprocessing, ensemble, tree, evaluate"
   ],
   "id": "52171c8a891d6eae",
   "outputs": [],
   "execution_count": 11
  },
  {
   "metadata": {
    "ExecuteTime": {
     "end_time": "2024-04-26T08:23:06.919659Z",
     "start_time": "2024-04-26T08:21:45.796623Z"
    }
   },
   "cell_type": "code",
   "source": [
    "train_set = pd.read_csv(TRAIN_DATA_FILE).drop(columns=[\"id\"])\n",
    "test_set = pd.read_csv(TEST_DATA_FILE).drop(columns=[\"id\"])\n",
    "\n",
    "X_train = train_set.drop(columns=[\"label\"])\n",
    "y_train = X_train.pop(\"attack_cat\")\n",
    "X_test = test_set.drop(columns=[\"label\"])\n",
    "y_test = X_test.pop(\"attack_cat\")\n",
    "\n",
    "# Encode categorical features using binary encoding\n",
    "# Scale numerical features using standard scaler\n",
    "cat_features = X_train.select_dtypes(exclude=[np.number]).columns.tolist()\n",
    "num_features = X_train.select_dtypes(include=[np.number]).columns.tolist()\n",
    "print(f\"Categorical features: {cat_features}\")\n",
    "print(f\"Numerical features: {num_features}\")\n",
    "\n",
    "preprocessor = ColumnTransformer(\n",
    "    transformers=[\n",
    "        (\"numerical\", StandardScaler(), num_features),\n",
    "        (\"categorical\", BinaryEncoder(handle_unknown=\"ignore\"), cat_features)\n",
    "    ], sparse_threshold=0\n",
    ")\n",
    "X_train = preprocessor.fit_transform(X_train)\n",
    "X_test = preprocessor.transform(X_test)\n",
    "print(f\"Number of features after preprocessing: {X_train.shape[1]}\")\n",
    "\n",
    "class_labels = np.unique(y_train)\n",
    "le = LabelEncoder()\n",
    "y_train = le.fit_transform(y_train)\n",
    "y_test = le.transform(y_test)\n",
    "\n",
    "metric = metrics.BalancedAccuracy()\n",
    "model = ensemble.AdaBoostClassifier(\n",
    "    model=(\n",
    "        tree.HoeffdingTreeClassifier(\n",
    "            split_criterion='gini',\n",
    "            delta=1e-5,\n",
    "            grace_period=2000\n",
    "        )\n",
    "    ),\n",
    "    n_models=5\n",
    ")\n",
    "\n",
    "i = 0        \n",
    "for xi, yi in stream.iter_array(X_train, y_train):\n",
    "    y_pred = model.predict_one(xi)\n",
    "    metric.update(yi, y_pred)\n",
    "    model.learn_one(xi, yi)\n",
    "    i += 1\n",
    "    if i > 30000:\n",
    "        break\n",
    "    \n",
    "print(metric)\n",
    "\n",
    "evaluate.progressive_val_score(\n",
    "    model=model,\n",
    "    dataset=stream.iter_array(X_test, y_test),\n",
    "    metric=metrics.BalancedAccuracy(),\n",
    "    print_every=200\n",
    ")"
   ],
   "id": "74179b054b04dac0",
   "outputs": [
    {
     "name": "stdout",
     "output_type": "stream",
     "text": [
      "Categorical features: ['proto', 'service', 'state']\n",
      "Numerical features: ['dur', 'spkts', 'dpkts', 'sbytes', 'dbytes', 'rate', 'sttl', 'dttl', 'sload', 'dload', 'sloss', 'dloss', 'sinpkt', 'dinpkt', 'sjit', 'djit', 'swin', 'stcpb', 'dtcpb', 'dwin', 'tcprtt', 'synack', 'ackdat', 'smean', 'dmean', 'trans_depth', 'response_body_len', 'ct_srv_src', 'ct_state_ttl', 'ct_dst_ltm', 'ct_src_dport_ltm', 'ct_dst_sport_ltm', 'ct_dst_src_ltm', 'is_ftp_login', 'ct_ftp_cmd', 'ct_flw_http_mthd', 'ct_src_ltm', 'ct_srv_dst', 'is_sm_ips_ports']\n",
      "Number of features after preprocessing: 55\n",
      "BalancedAccuracy: 50.00%\n",
      "[200] BalancedAccuracy: 100.00%\n",
      "[400] BalancedAccuracy: 36.33%\n",
      "[600] BalancedAccuracy: 34.71%\n",
      "[800] BalancedAccuracy: 35.46%\n",
      "[1,000] BalancedAccuracy: 42.05%\n",
      "[1,200] BalancedAccuracy: 39.51%\n",
      "[1,400] BalancedAccuracy: 39.80%\n",
      "[1,600] BalancedAccuracy: 39.97%\n",
      "[1,800] BalancedAccuracy: 41.52%\n",
      "[2,000] BalancedAccuracy: 41.72%\n",
      "[2,200] BalancedAccuracy: 41.51%\n",
      "[2,400] BalancedAccuracy: 42.01%\n",
      "[2,600] BalancedAccuracy: 41.69%\n",
      "[2,800] BalancedAccuracy: 41.31%\n",
      "[3,000] BalancedAccuracy: 39.94%\n",
      "[3,200] BalancedAccuracy: 39.88%\n",
      "[3,400] BalancedAccuracy: 39.55%\n",
      "[3,600] BalancedAccuracy: 38.79%\n",
      "[3,800] BalancedAccuracy: 38.00%\n",
      "[4,000] BalancedAccuracy: 37.89%\n",
      "[4,200] BalancedAccuracy: 37.63%\n",
      "[4,400] BalancedAccuracy: 36.91%\n",
      "[4,600] BalancedAccuracy: 36.42%\n",
      "[4,800] BalancedAccuracy: 36.18%\n",
      "[5,000] BalancedAccuracy: 36.06%\n",
      "[5,200] BalancedAccuracy: 35.93%\n",
      "[5,400] BalancedAccuracy: 35.53%\n",
      "[5,600] BalancedAccuracy: 35.46%\n",
      "[5,800] BalancedAccuracy: 35.26%\n",
      "[6,000] BalancedAccuracy: 35.20%\n",
      "[6,200] BalancedAccuracy: 35.22%\n"
     ]
    },
    {
     "ename": "KeyboardInterrupt",
     "evalue": "",
     "output_type": "error",
     "traceback": [
      "\u001B[0;31m---------------------------------------------------------------------------\u001B[0m",
      "\u001B[0;31mKeyboardInterrupt\u001B[0m                         Traceback (most recent call last)",
      "Cell \u001B[0;32mIn[15], line 54\u001B[0m\n\u001B[1;32m     50\u001B[0m         \u001B[38;5;28;01mbreak\u001B[39;00m\n\u001B[1;32m     52\u001B[0m \u001B[38;5;28mprint\u001B[39m(metric)\n\u001B[0;32m---> 54\u001B[0m \u001B[43mevaluate\u001B[49m\u001B[38;5;241;43m.\u001B[39;49m\u001B[43mprogressive_val_score\u001B[49m\u001B[43m(\u001B[49m\n\u001B[1;32m     55\u001B[0m \u001B[43m    \u001B[49m\u001B[43mmodel\u001B[49m\u001B[38;5;241;43m=\u001B[39;49m\u001B[43mmodel\u001B[49m\u001B[43m,\u001B[49m\n\u001B[1;32m     56\u001B[0m \u001B[43m    \u001B[49m\u001B[43mdataset\u001B[49m\u001B[38;5;241;43m=\u001B[39;49m\u001B[43mstream\u001B[49m\u001B[38;5;241;43m.\u001B[39;49m\u001B[43miter_array\u001B[49m\u001B[43m(\u001B[49m\u001B[43mX_test\u001B[49m\u001B[43m,\u001B[49m\u001B[43m \u001B[49m\u001B[43my_test\u001B[49m\u001B[43m)\u001B[49m\u001B[43m,\u001B[49m\n\u001B[1;32m     57\u001B[0m \u001B[43m    \u001B[49m\u001B[43mmetric\u001B[49m\u001B[38;5;241;43m=\u001B[39;49m\u001B[43mmetrics\u001B[49m\u001B[38;5;241;43m.\u001B[39;49m\u001B[43mBalancedAccuracy\u001B[49m\u001B[43m(\u001B[49m\u001B[43m)\u001B[49m\u001B[43m,\u001B[49m\n\u001B[1;32m     58\u001B[0m \u001B[43m    \u001B[49m\u001B[43mprint_every\u001B[49m\u001B[38;5;241;43m=\u001B[39;49m\u001B[38;5;241;43m200\u001B[39;49m\n\u001B[1;32m     59\u001B[0m \u001B[43m)\u001B[49m\n",
      "File \u001B[0;32m~/venv-metal/lib/python3.10/site-packages/river/evaluate/progressive_validation.py:399\u001B[0m, in \u001B[0;36mprogressive_val_score\u001B[0;34m(dataset, model, metric, moment, delay, print_every, show_time, show_memory, **print_kwargs)\u001B[0m\n\u001B[1;32m    386\u001B[0m checkpoints \u001B[38;5;241m=\u001B[39m iter_progressive_val_score(\n\u001B[1;32m    387\u001B[0m     dataset\u001B[38;5;241m=\u001B[39mdataset,\n\u001B[1;32m    388\u001B[0m     model\u001B[38;5;241m=\u001B[39mmodel,\n\u001B[0;32m   (...)\u001B[0m\n\u001B[1;32m    394\u001B[0m     measure_memory\u001B[38;5;241m=\u001B[39mshow_memory,\n\u001B[1;32m    395\u001B[0m )\n\u001B[1;32m    397\u001B[0m active_learning \u001B[38;5;241m=\u001B[39m utils\u001B[38;5;241m.\u001B[39minspect\u001B[38;5;241m.\u001B[39misactivelearner(model)\n\u001B[0;32m--> 399\u001B[0m \u001B[38;5;28;01mfor\u001B[39;00m checkpoint \u001B[38;5;129;01min\u001B[39;00m checkpoints:\n\u001B[1;32m    400\u001B[0m     msg \u001B[38;5;241m=\u001B[39m \u001B[38;5;124mf\u001B[39m\u001B[38;5;124m\"\u001B[39m\u001B[38;5;124m[\u001B[39m\u001B[38;5;132;01m{\u001B[39;00mcheckpoint[\u001B[38;5;124m'\u001B[39m\u001B[38;5;124mStep\u001B[39m\u001B[38;5;124m'\u001B[39m]\u001B[38;5;132;01m:\u001B[39;00m\u001B[38;5;124m,d\u001B[39m\u001B[38;5;132;01m}\u001B[39;00m\u001B[38;5;124m] \u001B[39m\u001B[38;5;132;01m{\u001B[39;00mmetric\u001B[38;5;132;01m}\u001B[39;00m\u001B[38;5;124m\"\u001B[39m\n\u001B[1;32m    401\u001B[0m     \u001B[38;5;28;01mif\u001B[39;00m active_learning:\n",
      "File \u001B[0;32m~/venv-metal/lib/python3.10/site-packages/river/evaluate/progressive_validation.py:220\u001B[0m, in \u001B[0;36miter_progressive_val_score\u001B[0;34m(dataset, model, metric, moment, delay, step, measure_time, measure_memory, yield_predictions)\u001B[0m\n\u001B[1;32m    108\u001B[0m \u001B[38;5;28;01mdef\u001B[39;00m \u001B[38;5;21miter_progressive_val_score\u001B[39m(\n\u001B[1;32m    109\u001B[0m     dataset: base\u001B[38;5;241m.\u001B[39mtyping\u001B[38;5;241m.\u001B[39mDataset,\n\u001B[1;32m    110\u001B[0m     model,\n\u001B[0;32m   (...)\u001B[0m\n\u001B[1;32m    117\u001B[0m     yield_predictions\u001B[38;5;241m=\u001B[39m\u001B[38;5;28;01mFalse\u001B[39;00m,\n\u001B[1;32m    118\u001B[0m ) \u001B[38;5;241m-\u001B[39m\u001B[38;5;241m>\u001B[39m typing\u001B[38;5;241m.\u001B[39mGenerator:\n\u001B[1;32m    119\u001B[0m \u001B[38;5;250m    \u001B[39m\u001B[38;5;124;03m\"\"\"Evaluates the performance of a model on a streaming dataset and yields results.\u001B[39;00m\n\u001B[1;32m    120\u001B[0m \n\u001B[1;32m    121\u001B[0m \u001B[38;5;124;03m    This does exactly the same as `evaluate.progressive_val_score`. The only difference is that\u001B[39;00m\n\u001B[0;32m   (...)\u001B[0m\n\u001B[1;32m    217\u001B[0m \n\u001B[1;32m    218\u001B[0m \u001B[38;5;124;03m    \"\"\"\u001B[39;00m\n\u001B[0;32m--> 220\u001B[0m     \u001B[38;5;28;01myield from\u001B[39;00m _progressive_validation(\n\u001B[1;32m    221\u001B[0m         dataset,\n\u001B[1;32m    222\u001B[0m         model,\n\u001B[1;32m    223\u001B[0m         metric,\n\u001B[1;32m    224\u001B[0m         checkpoints\u001B[38;5;241m=\u001B[39mitertools\u001B[38;5;241m.\u001B[39mcount(step, step) \u001B[38;5;28;01mif\u001B[39;00m step \u001B[38;5;28;01melse\u001B[39;00m \u001B[38;5;28miter\u001B[39m([]),\n\u001B[1;32m    225\u001B[0m         moment\u001B[38;5;241m=\u001B[39mmoment,\n\u001B[1;32m    226\u001B[0m         delay\u001B[38;5;241m=\u001B[39mdelay,\n\u001B[1;32m    227\u001B[0m         measure_time\u001B[38;5;241m=\u001B[39mmeasure_time,\n\u001B[1;32m    228\u001B[0m         measure_memory\u001B[38;5;241m=\u001B[39mmeasure_memory,\n\u001B[1;32m    229\u001B[0m         yield_predictions\u001B[38;5;241m=\u001B[39myield_predictions,\n\u001B[1;32m    230\u001B[0m     )\n",
      "File \u001B[0;32m~/venv-metal/lib/python3.10/site-packages/river/evaluate/progressive_validation.py:92\u001B[0m, in \u001B[0;36m_progressive_validation\u001B[0;34m(dataset, model, metric, checkpoints, moment, delay, measure_time, measure_memory, yield_predictions)\u001B[0m\n\u001B[1;32m     90\u001B[0m n_samples_learned \u001B[38;5;241m+\u001B[39m\u001B[38;5;241m=\u001B[39m \u001B[38;5;241m1\u001B[39m\n\u001B[1;32m     91\u001B[0m \u001B[38;5;28;01mif\u001B[39;00m model\u001B[38;5;241m.\u001B[39m_supervised:\n\u001B[0;32m---> 92\u001B[0m     \u001B[43mmodel\u001B[49m\u001B[38;5;241;43m.\u001B[39;49m\u001B[43mlearn_one\u001B[49m\u001B[43m(\u001B[49m\u001B[43mx\u001B[49m\u001B[43m,\u001B[49m\u001B[43m \u001B[49m\u001B[43my\u001B[49m\u001B[43m,\u001B[49m\u001B[43m \u001B[49m\u001B[38;5;241;43m*\u001B[39;49m\u001B[38;5;241;43m*\u001B[39;49m\u001B[43mkwargs\u001B[49m\u001B[43m)\u001B[49m\n\u001B[1;32m     93\u001B[0m \u001B[38;5;28;01melse\u001B[39;00m:\n\u001B[1;32m     94\u001B[0m     model\u001B[38;5;241m.\u001B[39mlearn_one(x, \u001B[38;5;241m*\u001B[39m\u001B[38;5;241m*\u001B[39mkwargs)\n",
      "File \u001B[0;32m~/venv-metal/lib/python3.10/site-packages/river/ensemble/boosting.py:81\u001B[0m, in \u001B[0;36mAdaBoostClassifier.learn_one\u001B[0;34m(self, x, y, **kwargs)\u001B[0m\n\u001B[1;32m     79\u001B[0m \u001B[38;5;28;01mfor\u001B[39;00m i, model \u001B[38;5;129;01min\u001B[39;00m \u001B[38;5;28menumerate\u001B[39m(\u001B[38;5;28mself\u001B[39m):\n\u001B[1;32m     80\u001B[0m     \u001B[38;5;28;01mfor\u001B[39;00m _ \u001B[38;5;129;01min\u001B[39;00m \u001B[38;5;28mrange\u001B[39m(utils\u001B[38;5;241m.\u001B[39mrandom\u001B[38;5;241m.\u001B[39mpoisson(lambda_poisson, \u001B[38;5;28mself\u001B[39m\u001B[38;5;241m.\u001B[39m_rng)):\n\u001B[0;32m---> 81\u001B[0m         \u001B[43mmodel\u001B[49m\u001B[38;5;241;43m.\u001B[39;49m\u001B[43mlearn_one\u001B[49m\u001B[43m(\u001B[49m\u001B[43mx\u001B[49m\u001B[43m,\u001B[49m\u001B[43m \u001B[49m\u001B[43my\u001B[49m\u001B[43m,\u001B[49m\u001B[43m \u001B[49m\u001B[38;5;241;43m*\u001B[39;49m\u001B[38;5;241;43m*\u001B[39;49m\u001B[43mkwargs\u001B[49m\u001B[43m)\u001B[49m\n\u001B[1;32m     83\u001B[0m     \u001B[38;5;28;01mif\u001B[39;00m model\u001B[38;5;241m.\u001B[39mpredict_one(x) \u001B[38;5;241m==\u001B[39m y:\n\u001B[1;32m     84\u001B[0m         \u001B[38;5;28mself\u001B[39m\u001B[38;5;241m.\u001B[39mcorrect_weight[i] \u001B[38;5;241m+\u001B[39m\u001B[38;5;241m=\u001B[39m lambda_poisson\n",
      "File \u001B[0;32m~/venv-metal/lib/python3.10/site-packages/river/tree/hoeffding_tree_classifier.py:359\u001B[0m, in \u001B[0;36mHoeffdingTreeClassifier.learn_one\u001B[0;34m(self, x, y, w)\u001B[0m\n\u001B[1;32m    357\u001B[0m path \u001B[38;5;241m=\u001B[39m \u001B[38;5;28miter\u001B[39m(\u001B[38;5;28mself\u001B[39m\u001B[38;5;241m.\u001B[39m_root\u001B[38;5;241m.\u001B[39mwalk(x, until_leaf\u001B[38;5;241m=\u001B[39m\u001B[38;5;28;01mFalse\u001B[39;00m))\n\u001B[1;32m    358\u001B[0m \u001B[38;5;28;01mwhile\u001B[39;00m \u001B[38;5;28;01mTrue\u001B[39;00m:\n\u001B[0;32m--> 359\u001B[0m     aux \u001B[38;5;241m=\u001B[39m \u001B[38;5;28;43mnext\u001B[39;49m\u001B[43m(\u001B[49m\u001B[43mpath\u001B[49m\u001B[43m,\u001B[49m\u001B[43m \u001B[49m\u001B[38;5;28;43;01mNone\u001B[39;49;00m\u001B[43m)\u001B[49m\n\u001B[1;32m    360\u001B[0m     \u001B[38;5;28;01mif\u001B[39;00m aux \u001B[38;5;129;01mis\u001B[39;00m \u001B[38;5;28;01mNone\u001B[39;00m:\n\u001B[1;32m    361\u001B[0m         \u001B[38;5;28;01mbreak\u001B[39;00m\n",
      "File \u001B[0;32m~/venv-metal/lib/python3.10/site-packages/river/tree/base.py:61\u001B[0m, in \u001B[0;36mBranch.walk\u001B[0;34m(self, x, until_leaf)\u001B[0m\n\u001B[1;32m     59\u001B[0m \u001B[38;5;28;01myield\u001B[39;00m \u001B[38;5;28mself\u001B[39m\n\u001B[1;32m     60\u001B[0m \u001B[38;5;28;01mtry\u001B[39;00m:\n\u001B[0;32m---> 61\u001B[0m     \u001B[38;5;28;01myield from\u001B[39;00m \u001B[38;5;28mself\u001B[39m\u001B[38;5;241m.\u001B[39mnext(x)\u001B[38;5;241m.\u001B[39mwalk(x, until_leaf)\n\u001B[1;32m     62\u001B[0m \u001B[38;5;28;01mexcept\u001B[39;00m \u001B[38;5;167;01mKeyError\u001B[39;00m:\n\u001B[1;32m     63\u001B[0m     \u001B[38;5;28;01mif\u001B[39;00m until_leaf:\n",
      "File \u001B[0;32m~/venv-metal/lib/python3.10/site-packages/river/tree/base.py:61\u001B[0m, in \u001B[0;36mBranch.walk\u001B[0;34m(self, x, until_leaf)\u001B[0m\n\u001B[1;32m     59\u001B[0m \u001B[38;5;28;01myield\u001B[39;00m \u001B[38;5;28mself\u001B[39m\n\u001B[1;32m     60\u001B[0m \u001B[38;5;28;01mtry\u001B[39;00m:\n\u001B[0;32m---> 61\u001B[0m     \u001B[38;5;28;01myield from\u001B[39;00m \u001B[38;5;28mself\u001B[39m\u001B[38;5;241m.\u001B[39mnext(x)\u001B[38;5;241m.\u001B[39mwalk(x, until_leaf)\n\u001B[1;32m     62\u001B[0m \u001B[38;5;28;01mexcept\u001B[39;00m \u001B[38;5;167;01mKeyError\u001B[39;00m:\n\u001B[1;32m     63\u001B[0m     \u001B[38;5;28;01mif\u001B[39;00m until_leaf:\n",
      "File \u001B[0;32m~/venv-metal/lib/python3.10/site-packages/river/tree/base.py:61\u001B[0m, in \u001B[0;36mBranch.walk\u001B[0;34m(self, x, until_leaf)\u001B[0m\n\u001B[1;32m     59\u001B[0m \u001B[38;5;28;01myield\u001B[39;00m \u001B[38;5;28mself\u001B[39m\n\u001B[1;32m     60\u001B[0m \u001B[38;5;28;01mtry\u001B[39;00m:\n\u001B[0;32m---> 61\u001B[0m     \u001B[38;5;28;01myield from\u001B[39;00m \u001B[38;5;28;43mself\u001B[39;49m\u001B[38;5;241;43m.\u001B[39;49m\u001B[43mnext\u001B[49m\u001B[43m(\u001B[49m\u001B[43mx\u001B[49m\u001B[43m)\u001B[49m\u001B[38;5;241m.\u001B[39mwalk(x, until_leaf)\n\u001B[1;32m     62\u001B[0m \u001B[38;5;28;01mexcept\u001B[39;00m \u001B[38;5;167;01mKeyError\u001B[39;00m:\n\u001B[1;32m     63\u001B[0m     \u001B[38;5;28;01mif\u001B[39;00m until_leaf:\n",
      "File \u001B[0;32m~/venv-metal/lib/python3.10/site-packages/river/tree/nodes/branch.py:27\u001B[0m, in \u001B[0;36mDTBranch.next\u001B[0;34m(self, x)\u001B[0m\n\u001B[1;32m     26\u001B[0m \u001B[38;5;28;01mdef\u001B[39;00m \u001B[38;5;21mnext\u001B[39m(\u001B[38;5;28mself\u001B[39m, x):\n\u001B[0;32m---> 27\u001B[0m     \u001B[38;5;28;01mreturn\u001B[39;00m \u001B[38;5;28mself\u001B[39m\u001B[38;5;241m.\u001B[39mchildren[\u001B[38;5;28;43mself\u001B[39;49m\u001B[38;5;241;43m.\u001B[39;49m\u001B[43mbranch_no\u001B[49m\u001B[43m(\u001B[49m\u001B[43mx\u001B[49m\u001B[43m)\u001B[49m]\n",
      "File \u001B[0;32m~/venv-metal/lib/python3.10/site-packages/river/tree/nodes/branch.py:55\u001B[0m, in \u001B[0;36mNumericBinaryBranch.branch_no\u001B[0;34m(self, x)\u001B[0m\n\u001B[1;32m     54\u001B[0m \u001B[38;5;28;01mdef\u001B[39;00m \u001B[38;5;21mbranch_no\u001B[39m(\u001B[38;5;28mself\u001B[39m, x):\n\u001B[0;32m---> 55\u001B[0m     \u001B[38;5;28;01mif\u001B[39;00m x[\u001B[38;5;28mself\u001B[39m\u001B[38;5;241m.\u001B[39mfeature] \u001B[38;5;241m<\u001B[39m\u001B[38;5;241m=\u001B[39m \u001B[38;5;28mself\u001B[39m\u001B[38;5;241m.\u001B[39mthreshold:\n\u001B[1;32m     56\u001B[0m         \u001B[38;5;28;01mreturn\u001B[39;00m \u001B[38;5;241m0\u001B[39m\n\u001B[1;32m     57\u001B[0m     \u001B[38;5;28;01mreturn\u001B[39;00m \u001B[38;5;241m1\u001B[39m\n",
      "\u001B[0;31mKeyboardInterrupt\u001B[0m: "
     ]
    }
   ],
   "execution_count": 15
  }
 ],
 "metadata": {
  "kernelspec": {
   "display_name": "Python 3",
   "language": "python",
   "name": "python3"
  },
  "language_info": {
   "codemirror_mode": {
    "name": "ipython",
    "version": 2
   },
   "file_extension": ".py",
   "mimetype": "text/x-python",
   "name": "python",
   "nbconvert_exporter": "python",
   "pygments_lexer": "ipython2",
   "version": "2.7.6"
  }
 },
 "nbformat": 4,
 "nbformat_minor": 5
}
