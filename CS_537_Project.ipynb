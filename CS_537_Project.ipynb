{
  "cells": [
    {
      "cell_type": "code",
      "execution_count": null,
      "metadata": {
        "id": "29GPqi_NgsAf"
      },
      "outputs": [],
      "source": [
        "import numpy as np\n",
        "import matplotlib.pyplot as plt\n",
        "import tensorflow as tf\n",
        "from tensorflow.keras.models import Sequential\n",
        "from tensorflow.keras import layers\n",
        "from tensorflow.keras.optimizers import SGD\n",
        "import pandas as pd\n",
        "\n",
        "import os\n",
        "import tempfile\n",
        "import math\n",
        "\n",
        "import sklearn\n",
        "from sklearn.metrics import confusion_matrix\n",
        "from sklearn.model_selection import train_test_split\n",
        "from sklearn.preprocessing import StandardScaler\n",
        "from sklearn.utils import class_weight\n",
        "from tensorflow.keras.callbacks import LearningRateScheduler\n",
        "from tensorflow.keras import regularizers\n",
        "\n",
        "data = pd.read_csv(\"UNSW_NB15_training-set.csv\")\n",
        "data_test = pd.read_csv(\"UNSW_NB15_testing-set.csv\")\n",
        "\n",
        "X_train = data\n",
        "X_train.pop(\"id\")\n",
        "y_train = X_train.pop(\"label\")\n",
        "\n",
        "X_test = data_test\n",
        "X_test.pop(\"id\")\n",
        "y_test = X_test.pop(\"label\")"
      ]
    },
    {
      "cell_type": "code",
      "execution_count": null,
      "metadata": {
        "id": "EdBJABlljAD1"
      },
      "outputs": [],
      "source": [
        "def handle_non_numerical_data(df):\n",
        "    columns = df.columns.values\n",
        "    for column in columns:\n",
        "        text_digit_vals = {}\n",
        "        def convert_to_int(val):\n",
        "            return text_digit_vals[val]\n",
        "\n",
        "        if df[column].dtype != np.int64 and df[column].dtype != np.float64:\n",
        "            column_contents = df[column].values.tolist()\n",
        "            unique_elements = set(column_contents)\n",
        "            x = 0\n",
        "            for unique in unique_elements:\n",
        "                if unique not in text_digit_vals:\n",
        "                    text_digit_vals[unique] = x\n",
        "                    x+=1\n",
        "\n",
        "            df[column] = list(map(convert_to_int, df[column]))\n",
        "\n",
        "    return df\n",
        "\n",
        "X_train = handle_non_numerical_data(X_train)\n",
        "X_test = handle_non_numerical_data(X_test)\n",
        "\n",
        "scaler = StandardScaler()\n",
        "X_train = scaler.fit_transform(X_train)\n",
        "X_test = scaler.fit_transform(X_test)\n",
        "\n",
        "\n",
        "# X_train, X_test, y_train, y_test = train_test_split(X, y, test_size=0.2)\n",
        "X_train, X_val, y_train, y_val = train_test_split(X_train, y_train, test_size=0.2)"
      ]
    },
    {
      "cell_type": "code",
      "execution_count": null,
      "metadata": {
        "colab": {
          "base_uri": "https://localhost:8080/"
        },
        "id": "kvLqhGR3hvN5",
        "outputId": "c225c7ce-c353-4ba7-a0ac-de7785bd1d8a"
      },
      "outputs": [
        {
          "output_type": "stream",
          "name": "stdout",
          "text": [
            "\n",
            "Epoch 1: LearningRateScheduler setting learning rate to 0.01.\n",
            "Epoch 1/10\n",
            "4384/4384 [==============================] - 15s 3ms/step - loss: 0.0450 - accuracy: 0.9833 - val_loss: 0.0315 - val_accuracy: 0.9906 - lr: 0.0100\n",
            "\n",
            "Epoch 2: LearningRateScheduler setting learning rate to 0.01.\n",
            "Epoch 2/10\n",
            "4384/4384 [==============================] - 12s 3ms/step - loss: 0.0171 - accuracy: 0.9943 - val_loss: 0.0071 - val_accuracy: 0.9975 - lr: 0.0100\n",
            "\n",
            "Epoch 3: LearningRateScheduler setting learning rate to 0.01.\n",
            "Epoch 3/10\n",
            "4384/4384 [==============================] - 11s 3ms/step - loss: 0.0105 - accuracy: 0.9961 - val_loss: 0.0032 - val_accuracy: 0.9991 - lr: 0.0100\n",
            "\n",
            "Epoch 4: LearningRateScheduler setting learning rate to 0.01.\n",
            "Epoch 4/10\n",
            "4384/4384 [==============================] - 13s 3ms/step - loss: 0.0027 - accuracy: 0.9992 - val_loss: 0.0018 - val_accuracy: 0.9995 - lr: 0.0100\n",
            "\n",
            "Epoch 5: LearningRateScheduler setting learning rate to 0.01.\n",
            "Epoch 5/10\n",
            "4384/4384 [==============================] - 12s 3ms/step - loss: 0.0015 - accuracy: 0.9996 - val_loss: 8.5111e-04 - val_accuracy: 0.9999 - lr: 0.0100\n",
            "\n",
            "Epoch 6: LearningRateScheduler setting learning rate to 0.009000000000000001.\n",
            "Epoch 6/10\n",
            "4384/4384 [==============================] - 12s 3ms/step - loss: 0.0020 - accuracy: 0.9995 - val_loss: 0.0011 - val_accuracy: 0.9998 - lr: 0.0090\n",
            "\n",
            "Epoch 7: LearningRateScheduler setting learning rate to 0.009000000000000001.\n",
            "Epoch 7/10\n",
            "4384/4384 [==============================] - 12s 3ms/step - loss: 0.0013 - accuracy: 0.9996 - val_loss: 8.1925e-04 - val_accuracy: 0.9999 - lr: 0.0090\n",
            "\n",
            "Epoch 8: LearningRateScheduler setting learning rate to 0.009000000000000001.\n",
            "Epoch 8/10\n",
            "4384/4384 [==============================] - 12s 3ms/step - loss: 3.7964e-04 - accuracy: 0.9999 - val_loss: 5.7025e-04 - val_accuracy: 0.9999 - lr: 0.0090\n",
            "\n",
            "Epoch 9: LearningRateScheduler setting learning rate to 0.009000000000000001.\n",
            "Epoch 9/10\n",
            "4384/4384 [==============================] - 12s 3ms/step - loss: 4.8013e-04 - accuracy: 0.9999 - val_loss: 4.2227e-04 - val_accuracy: 0.9999 - lr: 0.0090\n",
            "\n",
            "Epoch 10: LearningRateScheduler setting learning rate to 0.009000000000000001.\n",
            "Epoch 10/10\n",
            "4384/4384 [==============================] - 13s 3ms/step - loss: 9.8166e-04 - accuracy: 0.9998 - val_loss: 0.0034 - val_accuracy: 0.9991 - lr: 0.0090\n",
            "\n",
            "Test data loss/accuracy:\n",
            "2573/2573 [==============================] - 5s 2ms/step - loss: 0.3185 - accuracy: 0.9574\n"
          ]
        },
        {
          "output_type": "execute_result",
          "data": {
            "text/plain": [
              "[0.31849250197410583, 0.9574041962623596]"
            ]
          },
          "metadata": {},
          "execution_count": 23
        }
      ],
      "source": [
        "epochs = 10\n",
        "batch_size = 32\n",
        "\n",
        "class_weights = class_weight.compute_class_weight(class_weight=\"balanced\", classes=np.unique(y_train), y=y_train)\n",
        "class_weights = dict(zip(np.unique(y_train), class_weights))\n",
        "\n",
        "# Set initial learning rate and lr decay function\n",
        "initial_lr = 0.01\n",
        "def lr_step_decay(epoch, lr):\n",
        "    epochs_per_drop = 5\n",
        "    return initial_lr * math.pow(0.9, math.floor(epoch/epochs_per_drop))\n",
        "\n",
        "model = tf.keras.Sequential([\n",
        "  layers.Dense(44, activation='relu'),\n",
        "  layers.Dense(44, activation='relu'),\n",
        "  layers.Dense(12, activation='relu'),\n",
        "  layers.Dense(12, activation='relu'),\n",
        "  layers.Dense(1),\n",
        "  layers.Activation(\"sigmoid\")\n",
        "])\n",
        "\n",
        "# Compile model\n",
        "model.compile(\n",
        "    optimizer=SGD(learning_rate=0.01, momentum=0.9),\n",
        "    loss=\"binary_crossentropy\",\n",
        "    metrics=[\"accuracy\"]\n",
        ")\n",
        "\n",
        "# Train model with proper callback\n",
        "history = model.fit(X_train, y_train, validation_data=(X_val, y_val), batch_size=batch_size, epochs=epochs, class_weight=class_weights, verbose=1, callbacks=[LearningRateScheduler(lr_step_decay, verbose=1)])\n",
        "\n",
        "print(\"\\nTest data loss/accuracy:\")\n",
        "model.evaluate(X_test, y_test)"
      ]
    }
  ],
  "metadata": {
    "colab": {
      "provenance": []
    },
    "kernelspec": {
      "display_name": "Python 3",
      "name": "python3"
    },
    "language_info": {
      "name": "python"
    }
  },
  "nbformat": 4,
  "nbformat_minor": 0
}