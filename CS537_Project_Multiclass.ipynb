{
 "cells": [
  {
   "cell_type": "markdown",
   "metadata": {
    "collapsed": false,
    "jupyter": {
     "outputs_hidden": false
    }
   },
   "source": [
    "Imports"
   ]
  },
  {
   "cell_type": "code",
   "execution_count": 11,
   "metadata": {
    "id": "29GPqi_NgsAf"
   },
   "outputs": [
    {
     "ename": "ModuleNotFoundError",
     "evalue": "No module named 'category_encoders'",
     "output_type": "error",
     "traceback": [
      "\u001b[0;31m---------------------------------------------------------------------------\u001b[0m",
      "\u001b[0;31mModuleNotFoundError\u001b[0m                       Traceback (most recent call last)",
      "\u001b[0;32m/var/folders/m5/ll5wlbtd7ls54vg3_g2zf8vr0000gn/T/ipykernel_4365/347219365.py\u001b[0m in \u001b[0;36m<module>\u001b[0;34m\u001b[0m\n\u001b[1;32m     21\u001b[0m \u001b[0;32mfrom\u001b[0m \u001b[0msklearn\u001b[0m\u001b[0;34m.\u001b[0m\u001b[0mmetrics\u001b[0m \u001b[0;32mimport\u001b[0m \u001b[0mconfusion_matrix\u001b[0m\u001b[0;34m,\u001b[0m \u001b[0mConfusionMatrixDisplay\u001b[0m\u001b[0;34m\u001b[0m\u001b[0;34m\u001b[0m\u001b[0m\n\u001b[1;32m     22\u001b[0m \u001b[0;34m\u001b[0m\u001b[0m\n\u001b[0;32m---> 23\u001b[0;31m \u001b[0;32mfrom\u001b[0m \u001b[0mcategory_encoders\u001b[0m \u001b[0;32mimport\u001b[0m \u001b[0mBinaryEncoder\u001b[0m\u001b[0;34m\u001b[0m\u001b[0;34m\u001b[0m\u001b[0m\n\u001b[0m\u001b[1;32m     24\u001b[0m \u001b[0;34m\u001b[0m\u001b[0m\n\u001b[1;32m     25\u001b[0m \u001b[0;32mimport\u001b[0m \u001b[0mseaborn\u001b[0m \u001b[0;32mas\u001b[0m \u001b[0msns\u001b[0m\u001b[0;34m\u001b[0m\u001b[0;34m\u001b[0m\u001b[0m\n",
      "\u001b[0;31mModuleNotFoundError\u001b[0m: No module named 'category_encoders'"
     ]
    }
   ],
   "source": [
    "# Imports\n",
    "import numpy as np\n",
    "import tensorflow as tf\n",
    "import pandas as pd\n",
    "import matplotlib.pyplot as plt\n",
    "import math\n",
    "\n",
    "\n",
    "# Tensorflow/keras imports\n",
    "from tensorflow.keras import Sequential\n",
    "from tensorflow.keras import layers\n",
    "from tensorflow.keras import regularizers\n",
    "from tensorflow.keras.optimizers import SGD\n",
    "from tensorflow.keras.callbacks import LearningRateScheduler\n",
    "\n",
    "# sklearn imports\n",
    "from sklearn.model_selection import train_test_split\n",
    "from sklearn.preprocessing import StandardScaler, RobustScaler, OneHotEncoder, LabelEncoder\n",
    "from sklearn.utils import class_weight\n",
    "from sklearn.compose import ColumnTransformer\n",
    "from sklearn.metrics import confusion_matrix, ConfusionMatrixDisplay\n",
    "\n",
    "from category_encoders import BinaryEncoder\n",
    "\n",
    "import seaborn as sns"
   ]
  },
  {
   "cell_type": "markdown",
   "metadata": {
    "collapsed": false,
    "jupyter": {
     "outputs_hidden": false
    }
   },
   "source": [
    "Data Import and Preprocessing"
   ]
  },
  {
   "cell_type": "code",
   "execution_count": null,
   "metadata": {
    "collapsed": false,
    "jupyter": {
     "outputs_hidden": false
    }
   },
   "outputs": [],
   "source": [
    "# Function for removing correlated features\n",
    "def remove_correlated_features(df: pd.DataFrame, threshold: float) -> None:\n",
    "    corr_matrix = df.corr(numeric_only = True)\n",
    "    sns.heatmap(corr_matrix)\n",
    "    plt.title(\"Features Correlation\")\n",
    "    plt.show()\n",
    "    drop_cols = []\n",
    "    # Iterate through the correlation matrix and compare correlations\n",
    "    for i in range(len(corr_matrix.columns) - 1):\n",
    "        for j in range(i+1):\n",
    "            item = corr_matrix.iloc[j:(j+1), (i+1):(i+2)]\n",
    "            col = item.columns\n",
    "            row = item.index\n",
    "            val = abs(item.values)\n",
    "\n",
    "            # If correlation exceeds the threshold\n",
    "            if val >= threshold:\n",
    "                # Print the correlated features and the correlation value\n",
    "                print(\"Correlated features: \", col.values[0], \"|\", row.values[0], \"|\", round(val[0][0], 2))\n",
    "                drop_cols.append(col.values[0])\n",
    "\n",
    "    # Drop one of each pair of correlated columns\n",
    "    drops = set(drop_cols)\n",
    "    df.drop(columns=drops, inplace=True)\n",
    "    print('Removed Columns {}'.format(drops))\n",
    "\n",
    "\n",
    "def display_confusion_matrix(y_pred, y_test) -> None:\n",
    "    cm = confusion_matrix(y_true=y_test, y_pred=y_pred, labels=np.unique(y_test))\n",
    "    ConfusionMatrixDisplay(confusion_matrix=cm, display_labels=np.unique(y_test)).plot(cmap='Blues')\n",
    "    plt.show()\n"
   ]
  },
  {
   "cell_type": "code",
   "execution_count": null,
   "metadata": {
    "collapsed": false,
    "jupyter": {
     "outputs_hidden": false
    }
   },
   "outputs": [],
   "source": [
    "# Data files\n",
    "train_set = pd.read_csv(\"UNSW_NB15_training-set.csv\")\n",
    "test_set = pd.read_csv(\"UNSW_NB15_testing-set.csv\")\n",
    "\n",
    "df = pd.concat([train_set, test_set])\n",
    "df = df.drop(columns=['id', 'label'])\n",
    "\n",
    "print(f\"Samples in df: {len(df)}\")\n",
    "\n",
    "remove_correlated_features(df, 0.98)\n",
    "\n",
    "X = df.drop(columns=['attack_cat'])\n",
    "y = df['attack_cat']\n",
    "\n",
    "# Encode categorical features using binary encoding\n",
    "# Scale numerical features using standard scaler\n",
    "cat_features = X.select_dtypes(exclude=[np.number]).columns.tolist()\n",
    "num_features = X.select_dtypes(include=[np.number]).columns.tolist()\n",
    "print(f\"Categorical features: {cat_features}\")\n",
    "print(f\"Numerical features: {num_features}\")\n",
    "\n",
    "preprocessor = ColumnTransformer(\n",
    "    transformers=[\n",
    "        (\"numerical\", StandardScaler(), num_features),\n",
    "        (\"categorical\", BinaryEncoder(handle_unknown=\"ignore\"), cat_features)\n",
    "    ], sparse_threshold=0\n",
    ")\n",
    "preprocessor.set_output(transform=\"pandas\")\n",
    "X = preprocessor.fit_transform(X)\n",
    "\n",
    "print(f\"Number of features after preprocessing: {X.shape[1]}\")\n",
    "\n",
    "# Create the test set with 30% of the total samples\n",
    "X_train, X_test, y_train, y_test = train_test_split(X, y, test_size = 0.3)\n",
    "\n",
    "# Use class weights to balance the classes for the training set\n",
    "y_train.value_counts().plot.bar()\n",
    "plt.title(\"Number of samples per label in the training set\")\n",
    "plt.show()\n",
    "\n",
    "class_labels = np.unique(y_train)\n",
    "le = LabelEncoder()\n",
    "y_train = le.fit_transform(y_train)\n",
    "y_test = le.transform(y_test)\n",
    "\n",
    "class_weights = class_weight.compute_class_weight(class_weight=\"balanced\", classes=np.unique(y_train), y=y_train)\n",
    "class_weights = dict(zip(np.unique(y_train), class_weights))\n",
    "print(class_weights)\n",
    "# y_train = y_train.to_numpy()\n",
    "# y_test = y_test.to_numpy()"
   ]
  },
  {
   "cell_type": "markdown",
   "metadata": {
    "collapsed": false,
    "jupyter": {
     "outputs_hidden": false
    }
   },
   "source": [
    "Model structure and training"
   ]
  },
  {
   "cell_type": "code",
   "execution_count": null,
   "metadata": {
    "colab": {
     "base_uri": "https://localhost:8080/"
    },
    "id": "kvLqhGR3hvN5",
    "outputId": "c225c7ce-c353-4ba7-a0ac-de7785bd1d8a"
   },
   "outputs": [],
   "source": [
    "# Hyperparameters\n",
    "epochs = 5\n",
    "batch_size = 128\n",
    "initial_lr = 0.01\n",
    "\n",
    "# Function which will decrease the lr by 10% every n epochs\n",
    "def lr_step_decay(epoch, lr):\n",
    "    epochs_per_drop = 5\n",
    "    return initial_lr * math.pow(0.9, math.floor(epoch/epochs_per_drop))\n",
    "\n",
    "# Model\n",
    "model = Sequential([\n",
    "    layers.Input(shape=(X_train.shape[1],)),\n",
    "    layers.Dense(256, activation='relu'),\n",
    "    layers.Dropout(0.2),\n",
    "    layers.Dense(384, activation='relu'),\n",
    "    layers.Dropout(0.2),\n",
    "    layers.Dense(384, activation='relu'),\n",
    "    layers.Dropout(0.2),\n",
    "    layers.Dense(256, activation='relu'),\n",
    "    layers.Dropout(0.2),\n",
    "    layers.Dense(128, activation='relu'),\n",
    "    layers.Dropout(0.2),\n",
    "    layers.Dense(64, activation='relu'),\n",
    "    layers.Dropout(0.2),\n",
    "    layers.Dense(len(np.unique(y_train))),\n",
    "    layers.Activation(\"softmax\")\n",
    "])\n",
    "\n",
    "model.summary()"
   ]
  },
  {
   "cell_type": "code",
   "execution_count": null,
   "metadata": {
    "collapsed": false,
    "jupyter": {
     "outputs_hidden": false
    }
   },
   "outputs": [],
   "source": [
    "# Compile model\n",
    "model.compile(\n",
    "    optimizer = SGD(learning_rate=initial_lr, momentum=0.9),\n",
    "    loss = \"sparse_categorical_crossentropy\",\n",
    "    metrics = [\"accuracy\"]\n",
    ")\n",
    "\n",
    "# Train model with proper callback\n",
    "model.fit(X_train, y_train, validation_split=0.2, batch_size=batch_size, epochs=epochs, class_weight=class_weights, verbose=1, callbacks=[LearningRateScheduler(lr_step_decay, verbose=1)])\n",
    "\n",
    "# Evaluate on test data\n",
    "print(\"\\nTest data loss/accuracy:\")\n",
    "print(model.evaluate(X_test, y_test))\n",
    "\n",
    "# Display confusion matrix\n",
    "cm = confusion_matrix(y_true=y_test, y_pred=np.argmax(model.predict(X_test), axis=1))\n",
    "ConfusionMatrixDisplay(confusion_matrix=cm, display_labels=class_labels).plot(cmap='Blues', ax=plt.subplots(figsize=(12, 12))[1])\n",
    "plt.show()"
   ]
  },
  {
   "cell_type": "code",
   "execution_count": null,
   "metadata": {
    "collapsed": false,
    "jupyter": {
     "outputs_hidden": false
    }
   },
   "outputs": [],
   "source": [
    "from sklearn.ensemble import RandomForestClassifier\n",
    "\n",
    "clf = RandomForestClassifier(class_weight=class_weights).fit(X_train, y_train)\n",
    "print(clf.score(X_test, y_test))\n",
    "display_confusion_matrix(clf.predict(X_test), y_test)"
   ]
  },
  {
   "cell_type": "code",
   "execution_count": null,
   "metadata": {
    "collapsed": false,
    "jupyter": {
     "outputs_hidden": false
    }
   },
   "outputs": [],
   "source": [
    "from xgboost import XGBClassifier\n",
    "\n",
    "clf = XGBClassifier().fit(X_train, y_train)\n",
    "print(clf.score(X_test, y_test))\n",
    "display_confusion_matrix(clf.predict(X_test), y_test)"
   ]
  }
 ],
 "metadata": {
  "colab": {
   "provenance": []
  },
  "kernelspec": {
   "display_name": "Python 3 (ipykernel)",
   "language": "python",
   "name": "python3"
  },
  "language_info": {
   "codemirror_mode": {
    "name": "ipython",
    "version": 3
   },
   "file_extension": ".py",
   "mimetype": "text/x-python",
   "name": "python",
   "nbconvert_exporter": "python",
   "pygments_lexer": "ipython3",
   "version": "3.9.6"
  }
 },
 "nbformat": 4,
 "nbformat_minor": 4
}
