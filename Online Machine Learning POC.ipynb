{
 "cells": [
  {
   "cell_type": "code",
   "execution_count": 18,
   "metadata": {},
   "outputs": [],
   "source": [
    "# Imports\n",
    "import numpy as np\n",
    "import pandas as pd\n",
    "from sklearn.model_selection import train_test_split\n",
    "# River Imports\n",
    "from river import feature_extraction\n",
    "from river import naive_bayes\n",
    "from river import metrics\n",
    "from river import feature_extraction as fx\n",
    "from river import compose, stats\n",
    "from river import anomaly\n",
    "from river import stream\n",
    "from river import preprocessing\n",
    "from river import linear_model\n",
    "from river import ensemble\n",
    "from river import forest\n",
    "\n",
    "# Data files\n",
    "train_set = pd.read_csv(\"UNSW_NB15_training-set.csv\")\n",
    "test_set = pd.read_csv(\"UNSW_NB15_testing-set.csv\")\n",
    "\n",
    "df = pd.concat([train_set, test_set])\n",
    "df = df.drop(columns=['proto','service','state','attack_cat','id'])\n",
    "\n",
    "y = df.pop('label')\n",
    "\n",
    "X_train, X_test, y_train, y_test = train_test_split(df, y, test_size = 0.3)\n"
   ]
  },
  {
   "cell_type": "markdown",
   "metadata": {},
   "source": [
    "Logistic Regression"
   ]
  },
  {
   "cell_type": "code",
   "execution_count": 9,
   "metadata": {},
   "outputs": [
    {
     "name": "stderr",
     "output_type": "stream",
     "text": [
      "c:\\Users\\gregg\\AppData\\Local\\Programs\\Python\\Python311\\Lib\\site-packages\\river\\preprocessing\\scale.py:31: RuntimeWarning: invalid value encountered in double_scalars\n",
      "  return a / b if b else 0.0\n"
     ]
    },
    {
     "name": "stdout",
     "output_type": "stream",
     "text": [
      "Training Accuracy: Accuracy: 84.61%\n",
      "Final Accuracy: Accuracy: 86.46%\n"
     ]
    }
   ],
   "source": [
    "# Initialize Model pipeline\n",
    "model = compose.Pipeline(\n",
    "    preprocessing.MinMaxScaler(),\n",
    "    linear_model.LogisticRegression()\n",
    ")\n",
    "# Initialize metrics\n",
    "metric = metrics.ROCAUC()\n",
    "accuracy = metrics.Accuracy()\n",
    "\n",
    "# Train the model\n",
    "for x,y in stream.iter_pandas(X_train, y_train):\n",
    "    y_pred = model.predict_one(x)\n",
    "    model.learn_one(x, y)\n",
    "    metric.update(y, y_pred)\n",
    "    accuracy.update(y, y_pred)\n",
    "\n",
    "print(f'Training {accuracy}')\n",
    "# Test on validation set\n",
    "metric = metrics.ROCAUC() # Reset the metric\n",
    "accuracy = metrics.Accuracy() # Reset the metric\n",
    "\n",
    "for x,y in stream.iter_pandas(X_test, y_test):\n",
    "    y_pred = model.predict_one(x)\n",
    "    #model.learn_one(x, y)\n",
    "    metric.update(y, y_pred)\n",
    "    accuracy.update(y, y_pred)\n",
    "\n",
    "print(f'Final {accuracy}')"
   ]
  },
  {
   "cell_type": "markdown",
   "metadata": {},
   "source": [
    "Ensemble Bagging Classifier"
   ]
  },
  {
   "cell_type": "code",
   "execution_count": 19,
   "metadata": {},
   "outputs": [
    {
     "name": "stdout",
     "output_type": "stream",
     "text": [
      "Training Accuracy: 87.70%\n",
      "Final Accuracy: 88.12%\n"
     ]
    }
   ],
   "source": [
    "# Initialize Model pipeline\n",
    "model = ensemble.BaggingClassifier(\n",
    "    model=(\n",
    "        preprocessing.StandardScaler() |\n",
    "        linear_model.LogisticRegression()\n",
    "    ),\n",
    "    n_models=3,\n",
    "    seed=42\n",
    ")\n",
    "# Initialize metrics\n",
    "metric = metrics.ROCAUC()\n",
    "accuracy = metrics.Accuracy()\n",
    "\n",
    "# Train the model\n",
    "for x,y in stream.iter_pandas(X_train, y_train):\n",
    "    y_pred = model.predict_one(x)\n",
    "    model.learn_one(x, y)\n",
    "    #metric.update(y, y_pred)\n",
    "    accuracy.update(y, y_pred)\n",
    "\n",
    "print(f'Training {accuracy}')\n",
    "# Test on validation set\n",
    "metric = metrics.ROCAUC() # Reset the metric\n",
    "accuracy = metrics.Accuracy() # Reset the metric\n",
    "\n",
    "for x,y in stream.iter_pandas(X_test, y_test):\n",
    "    y_pred = model.predict_one(x)\n",
    "    model.learn_one(x, y)\n",
    "    #metric.update(y, y_pred)\n",
    "    accuracy.update(y, y_pred)\n",
    "\n",
    "print(f'Final {accuracy}')"
   ]
  },
  {
   "cell_type": "markdown",
   "metadata": {},
   "source": [
    "Ensemble ADWIN Bagging Classifier"
   ]
  },
  {
   "cell_type": "code",
   "execution_count": 11,
   "metadata": {},
   "outputs": [
    {
     "name": "stdout",
     "output_type": "stream",
     "text": [
      "Training Accuracy: 86.92%\n",
      "Final Accuracy: 86.81%\n"
     ]
    }
   ],
   "source": [
    "# Initialize Model pipeline\n",
    "model = ensemble.ADWINBaggingClassifier(\n",
    "    model=(\n",
    "        preprocessing.StandardScaler() |\n",
    "        linear_model.LogisticRegression()\n",
    "    ),\n",
    "    n_models=3,\n",
    "    seed=42\n",
    ")\n",
    "# Initialize metrics\n",
    "metric = metrics.ROCAUC()\n",
    "accuracy = metrics.Accuracy()\n",
    "\n",
    "# Train the model\n",
    "for x,y in stream.iter_pandas(X_train, y_train):\n",
    "    y_pred = model.predict_one(x)\n",
    "    model.learn_one(x, y)\n",
    "    #metric.update(y, y_pred)\n",
    "    accuracy.update(y, y_pred)\n",
    "print(f'Training {accuracy}')\n",
    "\n",
    "# Test on validation set\n",
    "metric = metrics.ROCAUC() # Reset the metric\n",
    "accuracy = metrics.Accuracy() # Reset the metric\n",
    "\n",
    "for x,y in stream.iter_pandas(X_test, y_test):\n",
    "    y_pred = model.predict_one(x)\n",
    "    model.learn_one(x, y)\n",
    "    metric.update(y, y_pred)\n",
    "    accuracy.update(y, y_pred)\n",
    "\n",
    "print(f'Final {accuracy}')"
   ]
  },
  {
   "cell_type": "markdown",
   "metadata": {},
   "source": [
    "Uncombined Data Sets to Test time-based issues"
   ]
  },
  {
   "cell_type": "code",
   "execution_count": 27,
   "metadata": {},
   "outputs": [],
   "source": [
    "# Binary Classification\n",
    "train_df = pd.read_csv(\"UNSW_NB15_training-set.csv\")\n",
    "test_df = pd.read_csv(\"UNSW_NB15_testing-set.csv\")\n",
    "\n",
    "X_train = train_df.drop(columns=['proto','service','state','attack_cat','id'])\n",
    "X_test = test_df.drop(columns=['proto','service','state','attack_cat','id'])\n",
    "\n",
    "y_train = X_train.pop(\"label\")\n",
    "y_test = X_test.pop(\"label\")"
   ]
  },
  {
   "cell_type": "markdown",
   "metadata": {},
   "source": [
    "Logistic Regression"
   ]
  },
  {
   "cell_type": "code",
   "execution_count": 28,
   "metadata": {},
   "outputs": [
    {
     "name": "stderr",
     "output_type": "stream",
     "text": [
      "c:\\Users\\gregg\\AppData\\Local\\Programs\\Python\\Python311\\Lib\\site-packages\\river\\preprocessing\\scale.py:31: RuntimeWarning: invalid value encountered in double_scalars\n",
      "  return a / b if b else 0.0\n"
     ]
    },
    {
     "name": "stdout",
     "output_type": "stream",
     "text": [
      "Training Accuracy: 96.62%\n",
      "Final Accuracy: 98.63%\n"
     ]
    }
   ],
   "source": [
    "# Initialize Model pipeline\n",
    "model = compose.Pipeline(\n",
    "    preprocessing.MinMaxScaler(),\n",
    "    linear_model.LogisticRegression()\n",
    ")\n",
    "# Initialize metrics\n",
    "metric = metrics.ROCAUC()\n",
    "accuracy = metrics.Accuracy()\n",
    "\n",
    "# Train the model\n",
    "for x,y in stream.iter_pandas(X_train, y_train):\n",
    "    y_pred = model.predict_one(x)\n",
    "    model.learn_one(x, y)\n",
    "    metric.update(y, y_pred)\n",
    "    accuracy.update(y, y_pred)\n",
    "\n",
    "print(f'Training {accuracy}')\n",
    "# Test on validation set\n",
    "metric = metrics.ROCAUC() # Reset the metric\n",
    "accuracy = metrics.Accuracy() # Reset the metric\n",
    "\n",
    "for x,y in stream.iter_pandas(X_test, y_test):\n",
    "    y_pred = model.predict_one(x)\n",
    "    model.learn_one(x, y)\n",
    "    metric.update(y, y_pred)\n",
    "    accuracy.update(y, y_pred)\n",
    "\n",
    "print(f'Final {accuracy}')"
   ]
  },
  {
   "cell_type": "markdown",
   "metadata": {},
   "source": [
    "Ensemble Bagging Logistic Regression"
   ]
  },
  {
   "cell_type": "code",
   "execution_count": 24,
   "metadata": {},
   "outputs": [
    {
     "name": "stdout",
     "output_type": "stream",
     "text": [
      "Training Accuracy: 97.92%\n",
      "Final Accuracy: 99.01%\n"
     ]
    }
   ],
   "source": [
    "# Initialize Model pipeline\n",
    "model = ensemble.BaggingClassifier(\n",
    "    model=(\n",
    "        preprocessing.StandardScaler() |\n",
    "        linear_model.LogisticRegression()\n",
    "    ),\n",
    "    n_models=3,\n",
    "    seed=42\n",
    ")\n",
    "# Initialize metrics\n",
    "metric = metrics.ROCAUC()\n",
    "accuracy = metrics.Accuracy()\n",
    "\n",
    "# Train the model\n",
    "for x,y in stream.iter_pandas(X_train, y_train):\n",
    "    y_pred = model.predict_one(x)\n",
    "    model.learn_one(x, y)\n",
    "    #metric.update(y, y_pred)\n",
    "    accuracy.update(y, y_pred)\n",
    "\n",
    "print(f'Training {accuracy}')\n",
    "# Test on validation set\n",
    "metric = metrics.ROCAUC() # Reset the metric\n",
    "accuracy = metrics.Accuracy() # Reset the metric\n",
    "\n",
    "for x,y in stream.iter_pandas(X_test, y_test):\n",
    "    y_pred = model.predict_one(x)\n",
    "    model.learn_one(x, y)\n",
    "    #metric.update(y, y_pred)\n",
    "    accuracy.update(y, y_pred)\n",
    "\n",
    "print(f'Final {accuracy}')"
   ]
  },
  {
   "cell_type": "markdown",
   "metadata": {},
   "source": [
    "ADWIN Bagging Classifier"
   ]
  },
  {
   "cell_type": "code",
   "execution_count": 17,
   "metadata": {},
   "outputs": [
    {
     "name": "stdout",
     "output_type": "stream",
     "text": [
      "Training Accuracy: 98.07%\n",
      "Final Accuracy: 99.41%\n"
     ]
    }
   ],
   "source": [
    "# Initialize Model pipeline\n",
    "model = ensemble.ADWINBaggingClassifier(\n",
    "    model=(\n",
    "        preprocessing.StandardScaler() |\n",
    "        linear_model.LogisticRegression()\n",
    "    ),\n",
    "    n_models=3,\n",
    "    seed=42\n",
    ")\n",
    "# Initialize metrics\n",
    "metric = metrics.ROCAUC()\n",
    "accuracy = metrics.Accuracy()\n",
    "\n",
    "# Train the model\n",
    "for x,y in stream.iter_pandas(X_train, y_train):\n",
    "    y_pred = model.predict_one(x)\n",
    "    model.learn_one(x, y)\n",
    "    #metric.update(y, y_pred)\n",
    "    accuracy.update(y, y_pred)\n",
    "print(f'Training {accuracy}')\n",
    "\n",
    "# Test on validation set\n",
    "metric = metrics.ROCAUC() # Reset the metric\n",
    "accuracy = metrics.Accuracy() # Reset the metric\n",
    "\n",
    "for x,y in stream.iter_pandas(X_test, y_test):\n",
    "    y_pred = model.predict_one(x)\n",
    "    model.learn_one(x, y)\n",
    "    metric.update(y, y_pred)\n",
    "    accuracy.update(y, y_pred)\n",
    "\n",
    "print(f'Final {accuracy}')"
   ]
  }
 ],
 "metadata": {
  "kernelspec": {
   "display_name": "Python 3",
   "language": "python",
   "name": "python3"
  },
  "language_info": {
   "codemirror_mode": {
    "name": "ipython",
    "version": 3
   },
   "file_extension": ".py",
   "mimetype": "text/x-python",
   "name": "python",
   "nbconvert_exporter": "python",
   "pygments_lexer": "ipython3",
   "version": "3.11.0"
  }
 },
 "nbformat": 4,
 "nbformat_minor": 2
}
